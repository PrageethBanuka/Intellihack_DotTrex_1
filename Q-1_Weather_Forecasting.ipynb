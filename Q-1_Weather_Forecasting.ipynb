{
 "cells": [
  {
   "cell_type": "markdown",
   "metadata": {},
   "source": [
    "# Q-1 Weather Forecasting"
   ]
  },
  {
   "cell_type": "code",
   "execution_count": 2,
   "metadata": {},
   "outputs": [
    {
     "data": {
      "text/html": [
       "<div>\n",
       "<style scoped>\n",
       "    .dataframe tbody tr th:only-of-type {\n",
       "        vertical-align: middle;\n",
       "    }\n",
       "\n",
       "    .dataframe tbody tr th {\n",
       "        vertical-align: top;\n",
       "    }\n",
       "\n",
       "    .dataframe thead th {\n",
       "        text-align: right;\n",
       "    }\n",
       "</style>\n",
       "<table border=\"1\" class=\"dataframe\">\n",
       "  <thead>\n",
       "    <tr style=\"text-align: right;\">\n",
       "      <th></th>\n",
       "      <th>date</th>\n",
       "      <th>avg_temperature</th>\n",
       "      <th>humidity</th>\n",
       "      <th>avg_wind_speed</th>\n",
       "      <th>rain_or_not</th>\n",
       "      <th>cloud_cover</th>\n",
       "      <th>pressure</th>\n",
       "    </tr>\n",
       "  </thead>\n",
       "  <tbody>\n",
       "    <tr>\n",
       "      <th>0</th>\n",
       "      <td>2023-01-01</td>\n",
       "      <td>23.745401</td>\n",
       "      <td>46.140905</td>\n",
       "      <td>7.845981</td>\n",
       "      <td>Rain</td>\n",
       "      <td>20.851051</td>\n",
       "      <td>992.965681</td>\n",
       "    </tr>\n",
       "    <tr>\n",
       "      <th>1</th>\n",
       "      <td>2023-01-02</td>\n",
       "      <td>30.030503</td>\n",
       "      <td>59.876587</td>\n",
       "      <td>5.382457</td>\n",
       "      <td>Rain</td>\n",
       "      <td>93.059521</td>\n",
       "      <td>1037.273025</td>\n",
       "    </tr>\n",
       "    <tr>\n",
       "      <th>2</th>\n",
       "      <td>2023-01-03</td>\n",
       "      <td>28.365224</td>\n",
       "      <td>51.464618</td>\n",
       "      <td>13.158008</td>\n",
       "      <td>Rain</td>\n",
       "      <td>11.636640</td>\n",
       "      <td>1034.193357</td>\n",
       "    </tr>\n",
       "    <tr>\n",
       "      <th>3</th>\n",
       "      <td>2023-01-04</td>\n",
       "      <td>27.550929</td>\n",
       "      <td>53.103799</td>\n",
       "      <td>5.886677</td>\n",
       "      <td>Rain</td>\n",
       "      <td>81.744971</td>\n",
       "      <td>968.610142</td>\n",
       "    </tr>\n",
       "    <tr>\n",
       "      <th>4</th>\n",
       "      <td>2023-01-05</td>\n",
       "      <td>23.639303</td>\n",
       "      <td>57.826186</td>\n",
       "      <td>12.248992</td>\n",
       "      <td>Rain</td>\n",
       "      <td>38.062329</td>\n",
       "      <td>1030.264331</td>\n",
       "    </tr>\n",
       "  </tbody>\n",
       "</table>\n",
       "</div>"
      ],
      "text/plain": [
       "         date  avg_temperature   humidity  avg_wind_speed rain_or_not  \\\n",
       "0  2023-01-01        23.745401  46.140905        7.845981        Rain   \n",
       "1  2023-01-02        30.030503  59.876587        5.382457        Rain   \n",
       "2  2023-01-03        28.365224  51.464618       13.158008        Rain   \n",
       "3  2023-01-04        27.550929  53.103799        5.886677        Rain   \n",
       "4  2023-01-05        23.639303  57.826186       12.248992        Rain   \n",
       "\n",
       "   cloud_cover     pressure  \n",
       "0    20.851051   992.965681  \n",
       "1    93.059521  1037.273025  \n",
       "2    11.636640  1034.193357  \n",
       "3    81.744971   968.610142  \n",
       "4    38.062329  1030.264331  "
      ]
     },
     "execution_count": 2,
     "metadata": {},
     "output_type": "execute_result"
    }
   ],
   "source": [
    "import pandas as pd\n",
    "import numpy as np\n",
    "\n",
    "# reads the weather forecast\n",
    "filepath = \"./weather_data.csv\"\n",
    "data = pd.read_csv(filepath)\n",
    "data.head()\n",
    "\n"
   ]
  },
  {
   "cell_type": "code",
   "execution_count": 3,
   "metadata": {},
   "outputs": [
    {
     "name": "stdout",
     "output_type": "stream",
     "text": [
      "<class 'pandas.core.frame.DataFrame'>\n",
      "RangeIndex: 311 entries, 0 to 310\n",
      "Data columns (total 7 columns):\n",
      " #   Column           Non-Null Count  Dtype  \n",
      "---  ------           --------------  -----  \n",
      " 0   date             311 non-null    object \n",
      " 1   avg_temperature  296 non-null    float64\n",
      " 2   humidity         296 non-null    float64\n",
      " 3   avg_wind_speed   296 non-null    float64\n",
      " 4   rain_or_not      311 non-null    object \n",
      " 5   cloud_cover      296 non-null    float64\n",
      " 6   pressure         311 non-null    float64\n",
      "dtypes: float64(5), object(2)\n",
      "memory usage: 17.1+ KB\n"
     ]
    }
   ],
   "source": [
    "data.info()"
   ]
  },
  {
   "cell_type": "code",
   "execution_count": 4,
   "metadata": {},
   "outputs": [
    {
     "data": {
      "text/plain": [
       "rain_or_not\n",
       "Rain       198\n",
       "No Rain    113\n",
       "Name: count, dtype: int64"
      ]
     },
     "execution_count": 4,
     "metadata": {},
     "output_type": "execute_result"
    }
   ],
   "source": [
    "# info about rain_or_not\n",
    "data['rain_or_not'].value_counts()"
   ]
  },
  {
   "cell_type": "code",
   "execution_count": 5,
   "metadata": {},
   "outputs": [
    {
     "data": {
      "text/html": [
       "<div>\n",
       "<style scoped>\n",
       "    .dataframe tbody tr th:only-of-type {\n",
       "        vertical-align: middle;\n",
       "    }\n",
       "\n",
       "    .dataframe tbody tr th {\n",
       "        vertical-align: top;\n",
       "    }\n",
       "\n",
       "    .dataframe thead th {\n",
       "        text-align: right;\n",
       "    }\n",
       "</style>\n",
       "<table border=\"1\" class=\"dataframe\">\n",
       "  <thead>\n",
       "    <tr style=\"text-align: right;\">\n",
       "      <th></th>\n",
       "      <th>avg_temperature</th>\n",
       "      <th>humidity</th>\n",
       "      <th>cloud_cover</th>\n",
       "      <th>avg_wind_speed</th>\n",
       "      <th>pressure</th>\n",
       "    </tr>\n",
       "  </thead>\n",
       "  <tbody>\n",
       "    <tr>\n",
       "      <th>count</th>\n",
       "      <td>296.000000</td>\n",
       "      <td>296.000000</td>\n",
       "      <td>296.000000</td>\n",
       "      <td>296.000000</td>\n",
       "      <td>311.000000</td>\n",
       "    </tr>\n",
       "    <tr>\n",
       "      <th>mean</th>\n",
       "      <td>25.983840</td>\n",
       "      <td>55.041385</td>\n",
       "      <td>49.834827</td>\n",
       "      <td>7.556636</td>\n",
       "      <td>1001.059119</td>\n",
       "    </tr>\n",
       "    <tr>\n",
       "      <th>std</th>\n",
       "      <td>6.802475</td>\n",
       "      <td>19.220133</td>\n",
       "      <td>29.009459</td>\n",
       "      <td>5.344683</td>\n",
       "      <td>28.835595</td>\n",
       "    </tr>\n",
       "    <tr>\n",
       "      <th>min</th>\n",
       "      <td>15.000000</td>\n",
       "      <td>30.000000</td>\n",
       "      <td>0.321826</td>\n",
       "      <td>0.069480</td>\n",
       "      <td>951.240404</td>\n",
       "    </tr>\n",
       "    <tr>\n",
       "      <th>25%</th>\n",
       "      <td>20.265692</td>\n",
       "      <td>34.280826</td>\n",
       "      <td>24.530951</td>\n",
       "      <td>3.550354</td>\n",
       "      <td>975.757545</td>\n",
       "    </tr>\n",
       "    <tr>\n",
       "      <th>50%</th>\n",
       "      <td>27.177958</td>\n",
       "      <td>56.759806</td>\n",
       "      <td>50.725120</td>\n",
       "      <td>7.326421</td>\n",
       "      <td>1001.938586</td>\n",
       "    </tr>\n",
       "    <tr>\n",
       "      <th>75%</th>\n",
       "      <td>32.204599</td>\n",
       "      <td>72.189837</td>\n",
       "      <td>76.046506</td>\n",
       "      <td>11.050627</td>\n",
       "      <td>1026.578884</td>\n",
       "    </tr>\n",
       "    <tr>\n",
       "      <th>max</th>\n",
       "      <td>35.000000</td>\n",
       "      <td>90.000000</td>\n",
       "      <td>99.834751</td>\n",
       "      <td>56.636041</td>\n",
       "      <td>1049.543752</td>\n",
       "    </tr>\n",
       "  </tbody>\n",
       "</table>\n",
       "</div>"
      ],
      "text/plain": [
       "       avg_temperature    humidity  cloud_cover  avg_wind_speed     pressure\n",
       "count       296.000000  296.000000   296.000000      296.000000   311.000000\n",
       "mean         25.983840   55.041385    49.834827        7.556636  1001.059119\n",
       "std           6.802475   19.220133    29.009459        5.344683    28.835595\n",
       "min          15.000000   30.000000     0.321826        0.069480   951.240404\n",
       "25%          20.265692   34.280826    24.530951        3.550354   975.757545\n",
       "50%          27.177958   56.759806    50.725120        7.326421  1001.938586\n",
       "75%          32.204599   72.189837    76.046506       11.050627  1026.578884\n",
       "max          35.000000   90.000000    99.834751       56.636041  1049.543752"
      ]
     },
     "execution_count": 5,
     "metadata": {},
     "output_type": "execute_result"
    }
   ],
   "source": [
    "# info about temp and humidity ....\n",
    "data[['avg_temperature', 'humidity', 'cloud_cover','avg_wind_speed', 'pressure']].describe()\n",
    "\n"
   ]
  },
  {
   "cell_type": "code",
   "execution_count": 6,
   "metadata": {},
   "outputs": [
    {
     "data": {
      "text/html": [
       "<div>\n",
       "<style scoped>\n",
       "    .dataframe tbody tr th:only-of-type {\n",
       "        vertical-align: middle;\n",
       "    }\n",
       "\n",
       "    .dataframe tbody tr th {\n",
       "        vertical-align: top;\n",
       "    }\n",
       "\n",
       "    .dataframe thead th {\n",
       "        text-align: right;\n",
       "    }\n",
       "</style>\n",
       "<table border=\"1\" class=\"dataframe\">\n",
       "  <thead>\n",
       "    <tr style=\"text-align: right;\">\n",
       "      <th></th>\n",
       "      <th>avg_temperature</th>\n",
       "      <th>humidity</th>\n",
       "      <th>avg_wind_speed</th>\n",
       "      <th>cloud_cover</th>\n",
       "      <th>pressure</th>\n",
       "    </tr>\n",
       "  </thead>\n",
       "  <tbody>\n",
       "    <tr>\n",
       "      <th>0</th>\n",
       "      <td>23.745401</td>\n",
       "      <td>46.140905</td>\n",
       "      <td>7.845981</td>\n",
       "      <td>20.851051</td>\n",
       "      <td>992.965681</td>\n",
       "    </tr>\n",
       "    <tr>\n",
       "      <th>1</th>\n",
       "      <td>30.030503</td>\n",
       "      <td>59.876587</td>\n",
       "      <td>5.382457</td>\n",
       "      <td>93.059521</td>\n",
       "      <td>1037.273025</td>\n",
       "    </tr>\n",
       "    <tr>\n",
       "      <th>2</th>\n",
       "      <td>28.365224</td>\n",
       "      <td>51.464618</td>\n",
       "      <td>13.158008</td>\n",
       "      <td>11.636640</td>\n",
       "      <td>1034.193357</td>\n",
       "    </tr>\n",
       "    <tr>\n",
       "      <th>3</th>\n",
       "      <td>27.550929</td>\n",
       "      <td>53.103799</td>\n",
       "      <td>5.886677</td>\n",
       "      <td>81.744971</td>\n",
       "      <td>968.610142</td>\n",
       "    </tr>\n",
       "    <tr>\n",
       "      <th>4</th>\n",
       "      <td>23.639303</td>\n",
       "      <td>57.826186</td>\n",
       "      <td>12.248992</td>\n",
       "      <td>38.062329</td>\n",
       "      <td>1030.264331</td>\n",
       "    </tr>\n",
       "  </tbody>\n",
       "</table>\n",
       "</div>"
      ],
      "text/plain": [
       "   avg_temperature   humidity  avg_wind_speed  cloud_cover     pressure\n",
       "0        23.745401  46.140905        7.845981    20.851051   992.965681\n",
       "1        30.030503  59.876587        5.382457    93.059521  1037.273025\n",
       "2        28.365224  51.464618       13.158008    11.636640  1034.193357\n",
       "3        27.550929  53.103799        5.886677    81.744971   968.610142\n",
       "4        23.639303  57.826186       12.248992    38.062329  1030.264331"
      ]
     },
     "execution_count": 6,
     "metadata": {},
     "output_type": "execute_result"
    }
   ],
   "source": [
    "# select only numeric attributesfrom weather data \n",
    "weather_data = data.select_dtypes(include = ['float64','int64'])\n",
    "weather_data.head()"
   ]
  },
  {
   "cell_type": "code",
   "execution_count": 7,
   "metadata": {},
   "outputs": [],
   "source": [
    "# find corrilations with avg_temperature\n",
    "weather_data_corr = weather_data.corr()['avg_temperature'][:-1]\n",
    "top_features = weather_data_corr[abs(weather_data_corr) > 0.5].sort_values(ascending=True)"
   ]
  },
  {
   "cell_type": "code",
   "execution_count": 8,
   "metadata": {},
   "outputs": [
    {
     "name": "stdout",
     "output_type": "stream",
     "text": [
      "There is 2 strongly correlated values with avg_temperature:\n",
      "\n",
      "humidity           0.902001\n",
      "avg_temperature    1.000000\n",
      "Name: avg_temperature, dtype: float64\n"
     ]
    }
   ],
   "source": [
    "print(\"There is {} strongly correlated values with avg_temperature:\\n\\n{}\".format(len(top_features), top_features))"
   ]
  },
  {
   "cell_type": "code",
   "execution_count": 9,
   "metadata": {},
   "outputs": [
    {
     "name": "stdout",
     "output_type": "stream",
     "text": [
      "{'No Rain': np.int64(0), 'Rain': np.int64(1)}\n"
     ]
    }
   ],
   "source": [
    "#encoding rain_or_not to binary format\n",
    "# rain =1 not =0\n",
    "from sklearn.preprocessing import LabelEncoder\n",
    "encoder = LabelEncoder()\n",
    "data['rain_or_not'] = encoder.fit_transform(data['rain_or_not'])\n",
    "label_mapping = dict(zip(encoder.classes_, encoder.transform(encoder.classes_)))\n",
    "print(label_mapping)"
   ]
  },
  {
   "cell_type": "code",
   "execution_count": 10,
   "metadata": {},
   "outputs": [
    {
     "data": {
      "text/html": [
       "<div>\n",
       "<style scoped>\n",
       "    .dataframe tbody tr th:only-of-type {\n",
       "        vertical-align: middle;\n",
       "    }\n",
       "\n",
       "    .dataframe tbody tr th {\n",
       "        vertical-align: top;\n",
       "    }\n",
       "\n",
       "    .dataframe thead th {\n",
       "        text-align: right;\n",
       "    }\n",
       "</style>\n",
       "<table border=\"1\" class=\"dataframe\">\n",
       "  <thead>\n",
       "    <tr style=\"text-align: right;\">\n",
       "      <th></th>\n",
       "      <th>date</th>\n",
       "      <th>avg_temperature</th>\n",
       "      <th>humidity</th>\n",
       "      <th>avg_wind_speed</th>\n",
       "      <th>rain_or_not</th>\n",
       "      <th>cloud_cover</th>\n",
       "      <th>pressure</th>\n",
       "    </tr>\n",
       "  </thead>\n",
       "  <tbody>\n",
       "    <tr>\n",
       "      <th>0</th>\n",
       "      <td>2023-01-01</td>\n",
       "      <td>23.745401</td>\n",
       "      <td>46.140905</td>\n",
       "      <td>7.845981</td>\n",
       "      <td>1</td>\n",
       "      <td>20.851051</td>\n",
       "      <td>992.965681</td>\n",
       "    </tr>\n",
       "    <tr>\n",
       "      <th>1</th>\n",
       "      <td>2023-01-02</td>\n",
       "      <td>30.030503</td>\n",
       "      <td>59.876587</td>\n",
       "      <td>5.382457</td>\n",
       "      <td>1</td>\n",
       "      <td>93.059521</td>\n",
       "      <td>1037.273025</td>\n",
       "    </tr>\n",
       "    <tr>\n",
       "      <th>2</th>\n",
       "      <td>2023-01-03</td>\n",
       "      <td>28.365224</td>\n",
       "      <td>51.464618</td>\n",
       "      <td>13.158008</td>\n",
       "      <td>1</td>\n",
       "      <td>11.636640</td>\n",
       "      <td>1034.193357</td>\n",
       "    </tr>\n",
       "    <tr>\n",
       "      <th>3</th>\n",
       "      <td>2023-01-04</td>\n",
       "      <td>27.550929</td>\n",
       "      <td>53.103799</td>\n",
       "      <td>5.886677</td>\n",
       "      <td>1</td>\n",
       "      <td>81.744971</td>\n",
       "      <td>968.610142</td>\n",
       "    </tr>\n",
       "    <tr>\n",
       "      <th>4</th>\n",
       "      <td>2023-01-05</td>\n",
       "      <td>23.639303</td>\n",
       "      <td>57.826186</td>\n",
       "      <td>12.248992</td>\n",
       "      <td>1</td>\n",
       "      <td>38.062329</td>\n",
       "      <td>1030.264331</td>\n",
       "    </tr>\n",
       "  </tbody>\n",
       "</table>\n",
       "</div>"
      ],
      "text/plain": [
       "         date  avg_temperature   humidity  avg_wind_speed  rain_or_not  \\\n",
       "0  2023-01-01        23.745401  46.140905        7.845981            1   \n",
       "1  2023-01-02        30.030503  59.876587        5.382457            1   \n",
       "2  2023-01-03        28.365224  51.464618       13.158008            1   \n",
       "3  2023-01-04        27.550929  53.103799        5.886677            1   \n",
       "4  2023-01-05        23.639303  57.826186       12.248992            1   \n",
       "\n",
       "   cloud_cover     pressure  \n",
       "0    20.851051   992.965681  \n",
       "1    93.059521  1037.273025  \n",
       "2    11.636640  1034.193357  \n",
       "3    81.744971   968.610142  \n",
       "4    38.062329  1030.264331  "
      ]
     },
     "execution_count": 10,
     "metadata": {},
     "output_type": "execute_result"
    }
   ],
   "source": [
    "data.head()"
   ]
  },
  {
   "cell_type": "code",
   "execution_count": 11,
   "metadata": {},
   "outputs": [
    {
     "data": {
      "text/plain": [
       "Index(['avg_temperature', 'humidity', 'avg_wind_speed', 'cloud_cover',\n",
       "       'pressure'],\n",
       "      dtype='object')"
      ]
     },
     "execution_count": 11,
     "metadata": {},
     "output_type": "execute_result"
    }
   ],
   "source": [
    "# Create a list of float colums to check for skewing\n",
    "mask = data.dtypes == np.float64\n",
    "float_cols = data.columns[mask]\n",
    "float_cols"
   ]
  },
  {
   "cell_type": "code",
   "execution_count": 12,
   "metadata": {},
   "outputs": [
    {
     "data": {
      "text/plain": [
       "avg_temperature   -0.213019\n",
       "humidity          -0.009738\n",
       "avg_wind_speed     2.818491\n",
       "cloud_cover       -0.048242\n",
       "pressure          -0.075223\n",
       "dtype: float64"
      ]
     },
     "execution_count": 12,
     "metadata": {},
     "output_type": "execute_result"
    }
   ],
   "source": [
    "skew_limit = 0.75\n",
    "skew_vals = data[float_cols].skew()\n",
    "skew_vals"
   ]
  },
  {
   "cell_type": "code",
   "execution_count": null,
   "metadata": {},
   "outputs": [
    {
     "data": {
      "text/html": [
       "<div>\n",
       "<style scoped>\n",
       "    .dataframe tbody tr th:only-of-type {\n",
       "        vertical-align: middle;\n",
       "    }\n",
       "\n",
       "    .dataframe tbody tr th {\n",
       "        vertical-align: top;\n",
       "    }\n",
       "\n",
       "    .dataframe thead th {\n",
       "        text-align: right;\n",
       "    }\n",
       "</style>\n",
       "<table border=\"1\" class=\"dataframe\">\n",
       "  <thead>\n",
       "    <tr style=\"text-align: right;\">\n",
       "      <th></th>\n",
       "      <th>Skew</th>\n",
       "    </tr>\n",
       "  </thead>\n",
       "  <tbody>\n",
       "    <tr>\n",
       "      <th>avg_wind_speed</th>\n",
       "      <td>2.818491</td>\n",
       "    </tr>\n",
       "  </tbody>\n",
       "</table>\n",
       "</div>"
      ],
      "text/plain": [
       "                    Skew\n",
       "avg_wind_speed  2.818491"
      ]
     },
     "execution_count": 13,
     "metadata": {},
     "output_type": "execute_result"
    }
   ],
   "source": [
    "# Showing the skewed columns\n",
    "skew_cols = (skew_vals\n",
    "             .sort_values(ascending=False)\n",
    "             .to_frame()\n",
    "             .rename(columns={0:'Skew'})\n",
    "             .query('abs(Skew) > {}'.format(skew_limit)))\n",
    "\n",
    "skew_cols\n"
   ]
  },
  {
   "cell_type": "code",
   "execution_count": 15,
   "metadata": {},
   "outputs": [
    {
     "data": {
      "text/plain": [
       "<Axes: >"
      ]
     },
     "execution_count": 15,
     "metadata": {},
     "output_type": "execute_result"
    },
    {
     "data": {
      "image/png": "[encoded data removed]",
      "text/plain": [
       "<Figure size 1000x500 with 2 Axes>"
      ]
     },
     "metadata": {},
     "output_type": "display_data"
    }
   ],
   "source": [
    "import matplotlib.pyplot as plt\n",
    "feild = \"avg_wind_speed\"\n",
    "fig, (ax_before, ax_after) = plt.subplots(1,2, figsize=(10,5))\n",
    "\n",
    "data[feild].hist(ax=ax_before)\n",
    "data[feild].apply(np.log1p).hist(ax=ax_after)\n"
   ]
  },
  {
   "cell_type": "code",
   "execution_count": null,
   "metadata": {},
   "outputs": [
    {
     "ename": "TypeError",
     "evalue": "'tuple' object is not callable",
     "output_type": "error",
     "traceback": [
      "\u001b[0;31m---------------------------------------------------------------------------\u001b[0m",
      "\u001b[0;31mTypeError\u001b[0m                                 Traceback (most recent call last)",
      "Cell \u001b[0;32mIn[18], line 1\u001b[0m\n\u001b[0;32m----> 1\u001b[0m \u001b[43mdata\u001b[49m\u001b[38;5;241;43m.\u001b[39;49m\u001b[43mshape\u001b[49m\u001b[43m(\u001b[49m\u001b[43m)\u001b[49m\n",
      "\u001b[0;31mTypeError\u001b[0m: 'tuple' object is not callable"
     ]
    }
   ],
   "source": []
  }
 ],
 "metadata": {
  "kernelspec": {
   "display_name": "Python 3",
   "language": "python",
   "name": "python3"
  },
  "language_info": {
   "codemirror_mode": {
    "name": "ipython",
    "version": 3
   },
   "file_extension": ".py",
   "mimetype": "text/x-python",
   "name": "python",
   "nbconvert_exporter": "python",
   "pygments_lexer": "ipython3",
   "version": "3.11.10"
  }
 },
 "nbformat": 4,
 "nbformat_minor": 2
}
